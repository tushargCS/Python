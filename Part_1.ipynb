{
 "cells": [
  {
   "cell_type": "markdown",
   "id": "d8c6ef92",
   "metadata": {},
   "source": [
    "# Python OutPut"
   ]
  },
  {
   "cell_type": "code",
   "execution_count": 1,
   "id": "a0620892",
   "metadata": {},
   "outputs": [
    {
     "name": "stdout",
     "output_type": "stream",
     "text": [
      "Hello Duniya\n"
     ]
    }
   ],
   "source": [
    "print(\"Hello Duniya\")"
   ]
  },
  {
   "cell_type": "code",
   "execution_count": 2,
   "id": "b88addcb",
   "metadata": {},
   "outputs": [
    {
     "name": "stdout",
     "output_type": "stream",
     "text": [
      "3.4\n"
     ]
    }
   ],
   "source": [
    "print(3.4)"
   ]
  },
  {
   "cell_type": "code",
   "execution_count": 3,
   "id": "934a33de",
   "metadata": {},
   "outputs": [
    {
     "name": "stdout",
     "output_type": "stream",
     "text": [
      "hello 1 5.6 True\n"
     ]
    }
   ],
   "source": [
    "print('hello',1,5.6,True)"
   ]
  },
  {
   "cell_type": "code",
   "execution_count": 4,
   "id": "6f059f47",
   "metadata": {},
   "outputs": [
    {
     "name": "stdout",
     "output_type": "stream",
     "text": [
      "tushar/gupta\n"
     ]
    }
   ],
   "source": [
    "# sep\n",
    "print('tushar','gupta',sep=\"/\")"
   ]
  },
  {
   "cell_type": "code",
   "execution_count": 5,
   "id": "d8a4fe5c",
   "metadata": {},
   "outputs": [
    {
     "name": "stdout",
     "output_type": "stream",
     "text": [
      "q\n",
      "s\n"
     ]
    }
   ],
   "source": [
    "print(\"q\",\"s\",sep='\\n')"
   ]
  },
  {
   "cell_type": "code",
   "execution_count": 6,
   "id": "b40297b8",
   "metadata": {},
   "outputs": [
    {
     "name": "stdout",
     "output_type": "stream",
     "text": [
      "tushar|gupta"
     ]
    }
   ],
   "source": [
    "# end\n",
    "print(\"tushar\",end='|')\n",
    "print(\"gupta\",end='')"
   ]
  },
  {
   "cell_type": "markdown",
   "id": "2d057bea",
   "metadata": {},
   "source": [
    "# Data Type"
   ]
  },
  {
   "cell_type": "code",
   "execution_count": 7,
   "id": "2797a724",
   "metadata": {},
   "outputs": [],
   "source": [
    "# Integer --> 1e308\n",
    "# decimal --> 1.7e308\n",
    "# boolean --> True/False\n",
    "# Text/String --> 'Hello World'\n",
    "# Complex --> print(5+6j)\n",
    "# list --> [1,2,3,4,5]\n",
    "# tuple --> (1,2,3,4,5)\n",
    "# set --> {1,2,3,4,5}\n",
    "# dictionary --> {'name':'tushar','gender':'Male'}"
   ]
  },
  {
   "cell_type": "code",
   "execution_count": 8,
   "id": "2c48e56d",
   "metadata": {},
   "outputs": [
    {
     "data": {
      "text/plain": [
       "list"
      ]
     },
     "execution_count": 8,
     "metadata": {},
     "output_type": "execute_result"
    }
   ],
   "source": [
    "# type([1,2,3])\n",
    "type([1,2,3])"
   ]
  },
  {
   "cell_type": "markdown",
   "id": "58bc3e2e",
   "metadata": {},
   "source": [
    "# Variables"
   ]
  },
  {
   "cell_type": "code",
   "execution_count": 9,
   "id": "b3c4828f",
   "metadata": {},
   "outputs": [
    {
     "data": {
      "text/plain": [
       "'tushar'"
      ]
     },
     "execution_count": 9,
     "metadata": {},
     "output_type": "execute_result"
    }
   ],
   "source": [
    "name=\"tushar\"\n",
    "# name --> variable\n",
    "name"
   ]
  },
  {
   "cell_type": "code",
   "execution_count": 10,
   "id": "8eedcb64",
   "metadata": {},
   "outputs": [
    {
     "name": "stdout",
     "output_type": "stream",
     "text": [
      "7\n"
     ]
    }
   ],
   "source": [
    "a=3\n",
    "b=4\n",
    "print(a+b)"
   ]
  },
  {
   "cell_type": "markdown",
   "id": "98899be9",
   "metadata": {},
   "source": [
    "# Static vs Dynamic Typing"
   ]
  },
  {
   "cell_type": "code",
   "execution_count": 11,
   "id": "93ef05cc",
   "metadata": {},
   "outputs": [],
   "source": [
    "# Dynamic Typing --> you do not tell the datatype of variable\n",
    "a=6"
   ]
  },
  {
   "cell_type": "code",
   "execution_count": 12,
   "id": "4e61176d",
   "metadata": {},
   "outputs": [],
   "source": [
    "# static type--> in C and C++ //\n",
    "# int a=10;"
   ]
  },
  {
   "cell_type": "markdown",
   "id": "7eb31088",
   "metadata": {},
   "source": [
    "# Static vs Dynamic Binding "
   ]
  },
  {
   "cell_type": "code",
   "execution_count": 13,
   "id": "bbb0f7a0",
   "metadata": {},
   "outputs": [
    {
     "name": "stdout",
     "output_type": "stream",
     "text": [
      "10\n",
      "tushar\n"
     ]
    }
   ],
   "source": [
    "# dynamic binding\n",
    "a=10\n",
    "print(a)\n",
    "a=\"tushar\"\n",
    "print(a)"
   ]
  },
  {
   "cell_type": "code",
   "execution_count": 14,
   "id": "5b1decf8",
   "metadata": {},
   "outputs": [],
   "source": [
    "# static binding\n",
    "# int a=12; now you cant store any other type of value in a;"
   ]
  },
  {
   "cell_type": "markdown",
   "id": "f4ad2d38",
   "metadata": {},
   "source": [
    "# styling declaration technique"
   ]
  },
  {
   "cell_type": "code",
   "execution_count": 15,
   "id": "99a2505f",
   "metadata": {},
   "outputs": [
    {
     "name": "stdout",
     "output_type": "stream",
     "text": [
      "1 2 3\n"
     ]
    }
   ],
   "source": [
    "a,b,c=1,2,3\n",
    "print(a,b,c)"
   ]
  },
  {
   "cell_type": "code",
   "execution_count": 16,
   "id": "ff814fd0",
   "metadata": {},
   "outputs": [
    {
     "name": "stdout",
     "output_type": "stream",
     "text": [
      "5 5 5\n"
     ]
    }
   ],
   "source": [
    "a=b=c = 5\n",
    "print(a,b,c)"
   ]
  },
  {
   "cell_type": "markdown",
   "id": "a3553b68",
   "metadata": {},
   "source": [
    "# Comments"
   ]
  },
  {
   "cell_type": "code",
   "execution_count": 17,
   "id": "94675cf0",
   "metadata": {},
   "outputs": [],
   "source": [
    "# hi my name is tushar\n",
    "# this is the simple comment\n"
   ]
  },
  {
   "cell_type": "markdown",
   "id": "3c99f12e",
   "metadata": {},
   "source": [
    "# Keyword & identifier"
   ]
  },
  {
   "cell_type": "code",
   "execution_count": 18,
   "id": "7257b3b6",
   "metadata": {},
   "outputs": [],
   "source": [
    "# Compilation --> process of converting a High level Language to Low level language(0 / 1)"
   ]
  },
  {
   "cell_type": "code",
   "execution_count": 19,
   "id": "1efe7408",
   "metadata": {},
   "outputs": [],
   "source": [
    "# some languages are compiled langauges - -> like java, c\n",
    "# they convert whole code in 1/0 in one step"
   ]
  },
  {
   "cell_type": "code",
   "execution_count": 20,
   "id": "f48bdc30",
   "metadata": {},
   "outputs": [],
   "source": [
    "# some languages are interpreter languages -- > python\n",
    "# they convert the code in 0/1 by step by step"
   ]
  },
  {
   "cell_type": "code",
   "execution_count": 21,
   "id": "444de220",
   "metadata": {},
   "outputs": [],
   "source": [
    "# keyword are the reserve words used by compiler and interpreter to convert code in lower level langauges"
   ]
  },
  {
   "cell_type": "code",
   "execution_count": 22,
   "id": "0e59f1e4",
   "metadata": {},
   "outputs": [],
   "source": [
    "# 32 keywords in python"
   ]
  },
  {
   "cell_type": "code",
   "execution_count": 23,
   "id": "5f07b0bd",
   "metadata": {},
   "outputs": [],
   "source": [
    "# identifier --> name of variable, function, class to identify"
   ]
  },
  {
   "cell_type": "code",
   "execution_count": 24,
   "id": "8013d2ce",
   "metadata": {},
   "outputs": [
    {
     "name": "stdout",
     "output_type": "stream",
     "text": [
      "tushar\n"
     ]
    }
   ],
   "source": [
    "_ = \"tushar\"\n",
    "print(_)"
   ]
  },
  {
   "cell_type": "markdown",
   "id": "e4bb7671",
   "metadata": {},
   "source": [
    "# User Input"
   ]
  },
  {
   "cell_type": "code",
   "execution_count": 25,
   "id": "26bc7227",
   "metadata": {},
   "outputs": [],
   "source": [
    "# static Vs Dynamic software"
   ]
  },
  {
   "cell_type": "code",
   "execution_count": 26,
   "id": "de1ed866",
   "metadata": {},
   "outputs": [
    {
     "name": "stdout",
     "output_type": "stream",
     "text": [
      "\n"
     ]
    },
    {
     "data": {
      "text/plain": [
       "''"
      ]
     },
     "execution_count": 26,
     "metadata": {},
     "output_type": "execute_result"
    }
   ],
   "source": [
    "input()"
   ]
  },
  {
   "cell_type": "code",
   "execution_count": 27,
   "id": "686cd956",
   "metadata": {
    "scrolled": true
   },
   "outputs": [
    {
     "name": "stdout",
     "output_type": "stream",
     "text": [
      "enter the no \n"
     ]
    },
    {
     "data": {
      "text/plain": [
       "''"
      ]
     },
     "execution_count": 27,
     "metadata": {},
     "output_type": "execute_result"
    }
   ],
   "source": [
    "input(\"enter the no \")"
   ]
  },
  {
   "cell_type": "code",
   "execution_count": 28,
   "id": "539a4a4f",
   "metadata": {},
   "outputs": [
    {
     "name": "stdout",
     "output_type": "stream",
     "text": [
      "enter the no\n",
      "enter the second no\n"
     ]
    },
    {
     "data": {
      "text/plain": [
       "''"
      ]
     },
     "execution_count": 28,
     "metadata": {},
     "output_type": "execute_result"
    }
   ],
   "source": [
    "a = input(\"enter the no\")\n",
    "b = input(\"enter the second no\")\n",
    "a+b"
   ]
  },
  {
   "cell_type": "markdown",
   "id": "6940599c",
   "metadata": {},
   "source": [
    "# Type Coversion"
   ]
  },
  {
   "cell_type": "code",
   "execution_count": 29,
   "id": "4490601e",
   "metadata": {},
   "outputs": [],
   "source": [
    "# string is the universal format\n",
    "# implicit type conversion ==> 9+3.4\n",
    "# explicit type conversion  2+'4'"
   ]
  },
  {
   "cell_type": "code",
   "execution_count": 30,
   "id": "314cc410",
   "metadata": {},
   "outputs": [
    {
     "data": {
      "text/plain": [
       "int"
      ]
     },
     "execution_count": 30,
     "metadata": {},
     "output_type": "execute_result"
    }
   ],
   "source": [
    "type(int('4'))"
   ]
  },
  {
   "cell_type": "code",
   "execution_count": 31,
   "id": "500bdbac",
   "metadata": {},
   "outputs": [],
   "source": [
    "# int(4+5j) --> error "
   ]
  },
  {
   "cell_type": "code",
   "execution_count": 32,
   "id": "8f96f834",
   "metadata": {},
   "outputs": [
    {
     "data": {
      "text/plain": [
       "'6'"
      ]
     },
     "execution_count": 32,
     "metadata": {},
     "output_type": "execute_result"
    }
   ],
   "source": [
    "str(6)"
   ]
  },
  {
   "cell_type": "code",
   "execution_count": 33,
   "id": "a4d36216",
   "metadata": {},
   "outputs": [
    {
     "data": {
      "text/plain": [
       "4.0"
      ]
     },
     "execution_count": 33,
     "metadata": {},
     "output_type": "execute_result"
    }
   ],
   "source": [
    "float(4)"
   ]
  },
  {
   "cell_type": "code",
   "execution_count": 64,
   "id": "d3211613",
   "metadata": {},
   "outputs": [
    {
     "name": "stdout",
     "output_type": "stream",
     "text": [
      "enter the no12\n",
      "enter the second no12\n"
     ]
    },
    {
     "data": {
      "text/plain": [
       "24"
      ]
     },
     "execution_count": 64,
     "metadata": {},
     "output_type": "execute_result"
    }
   ],
   "source": [
    "a = int(input(\"enter the no\"))\n",
    "b = int(input(\"enter the second no\"))\n",
    "a+b"
   ]
  },
  {
   "cell_type": "code",
   "execution_count": 35,
   "id": "d3871558",
   "metadata": {},
   "outputs": [],
   "source": [
    "# Literals\n",
    "a= 0b1010 #binary Literals\n",
    "b= 100 #Decimal Literal\n",
    "c= 0o310 #octal Literal\n",
    "d= 0x12c #hexadecimal Literal"
   ]
  },
  {
   "cell_type": "code",
   "execution_count": 36,
   "id": "d0742d5d",
   "metadata": {},
   "outputs": [
    {
     "name": "stdout",
     "output_type": "stream",
     "text": [
      "10 100 200 300\n"
     ]
    }
   ],
   "source": [
    "print(a,b,c,d)"
   ]
  },
  {
   "cell_type": "code",
   "execution_count": 37,
   "id": "2fb3f05d",
   "metadata": {},
   "outputs": [
    {
     "data": {
      "text/plain": [
       "1600.0"
      ]
     },
     "execution_count": 37,
     "metadata": {},
     "output_type": "execute_result"
    }
   ],
   "source": [
    "float_a = 1.6e3\n",
    "float_a"
   ]
  },
  {
   "cell_type": "code",
   "execution_count": 38,
   "id": "75fe87e5",
   "metadata": {},
   "outputs": [
    {
     "name": "stdout",
     "output_type": "stream",
     "text": [
      "0.0 3.14\n"
     ]
    }
   ],
   "source": [
    "# complex no\n",
    "a = 3.14j\n",
    "print(a.real,a.imag)"
   ]
  },
  {
   "cell_type": "code",
   "execution_count": 39,
   "id": "dd692b85",
   "metadata": {},
   "outputs": [],
   "source": [
    "# String\n",
    "a = 'Tushar'\n",
    "b = \"tushar\"\n",
    "c = \"c\"\n",
    "multiline_str = \"\"\"this is my mutliline string\"\"\""
   ]
  },
  {
   "cell_type": "code",
   "execution_count": 40,
   "id": "647d455c",
   "metadata": {},
   "outputs": [
    {
     "name": "stdout",
     "output_type": "stream",
     "text": [
      "Tushar tushar c this is my mutliline string\n"
     ]
    }
   ],
   "source": [
    "print(a,b,c,multiline_str)"
   ]
  },
  {
   "cell_type": "code",
   "execution_count": 41,
   "id": "0b71d803",
   "metadata": {},
   "outputs": [
    {
     "data": {
      "text/plain": [
       "'😀😆🤣'"
      ]
     },
     "execution_count": 41,
     "metadata": {},
     "output_type": "execute_result"
    }
   ],
   "source": [
    "unicode = u\"\\U0001f600\\U0001F606\\U0001F923\"\n",
    "unicode"
   ]
  },
  {
   "cell_type": "code",
   "execution_count": 42,
   "id": "87a00556",
   "metadata": {},
   "outputs": [
    {
     "name": "stdout",
     "output_type": "stream",
     "text": [
      "5 10\n"
     ]
    }
   ],
   "source": [
    "# boolean\n",
    "# True--> 1\n",
    "# False--> 0\n",
    "a = True+4\n",
    "b = False+10\n",
    "print(a,b)"
   ]
  },
  {
   "cell_type": "code",
   "execution_count": 43,
   "id": "7b819906",
   "metadata": {},
   "outputs": [],
   "source": [
    "# you can't declare the variable in python like\n",
    "# k\n",
    "# a=5\n",
    "# c=4"
   ]
  },
  {
   "cell_type": "code",
   "execution_count": 44,
   "id": "33a9b858",
   "metadata": {},
   "outputs": [
    {
     "name": "stdout",
     "output_type": "stream",
     "text": [
      "None\n"
     ]
    }
   ],
   "source": [
    "# k will declare\n",
    "k=None\n",
    "print(k)"
   ]
  },
  {
   "cell_type": "markdown",
   "id": "5722bc17",
   "metadata": {},
   "source": [
    "# Operators in Python"
   ]
  },
  {
   "cell_type": "code",
   "execution_count": 45,
   "id": "8d96e7d0",
   "metadata": {},
   "outputs": [
    {
     "name": "stdout",
     "output_type": "stream",
     "text": [
      "4\n",
      "-2\n",
      "3\n",
      "0.3333333333333333\n",
      "0\n",
      "1\n",
      "9\n"
     ]
    }
   ],
   "source": [
    "# Arithmetic\n",
    "print(1+3)\n",
    "print(1-3)\n",
    "print(1*3)\n",
    "print(1/3)\n",
    "print(1//3)\n",
    "print(1%3)\n",
    "print(3**2)"
   ]
  },
  {
   "cell_type": "code",
   "execution_count": 46,
   "id": "caa49ec4",
   "metadata": {},
   "outputs": [
    {
     "name": "stdout",
     "output_type": "stream",
     "text": [
      "False\n",
      "True\n",
      "False\n",
      "True\n",
      "True\n",
      "False\n"
     ]
    }
   ],
   "source": [
    "# relational operators\n",
    "print(1>2)\n",
    "print(2<3)\n",
    "print(1>=3)\n",
    "print(2<=3)\n",
    "print(1==1)\n",
    "print(1!=1)"
   ]
  },
  {
   "cell_type": "code",
   "execution_count": 47,
   "id": "6599ef10",
   "metadata": {},
   "outputs": [
    {
     "name": "stdout",
     "output_type": "stream",
     "text": [
      "1\n",
      "0\n",
      "1\n",
      "True\n",
      "False\n"
     ]
    }
   ],
   "source": [
    "# Logical Operator\n",
    "# and\n",
    "# or \n",
    "# not\n",
    "\n",
    "print(1 and 1)\n",
    "print(1 and 0)\n",
    "print(1 or 0)\n",
    "print(not 0)\n",
    "print(not 1)"
   ]
  },
  {
   "cell_type": "code",
   "execution_count": 48,
   "id": "953309bc",
   "metadata": {},
   "outputs": [
    {
     "name": "stdout",
     "output_type": "stream",
     "text": [
      "2\n",
      "3\n",
      "1\n",
      "-4\n",
      "1\n",
      "20\n"
     ]
    }
   ],
   "source": [
    "# Bitwise Operators\n",
    "print(2 & 3)\n",
    "print(2 | 3)\n",
    "print(2 ^ 3)\n",
    "print(~3)\n",
    "print( 4 >> 2 )\n",
    "print( 5 << 2 )"
   ]
  },
  {
   "cell_type": "code",
   "execution_count": 49,
   "id": "39fa6070",
   "metadata": {},
   "outputs": [
    {
     "name": "stdout",
     "output_type": "stream",
     "text": [
      "6\n"
     ]
    }
   ],
   "source": [
    "# Assignment Operators\n",
    "a=2\n",
    "a+=2\n",
    "a*=2\n",
    "a-=2\n",
    "print(a)\n",
    "# a++ / ++a --> not allow in python"
   ]
  },
  {
   "cell_type": "code",
   "execution_count": 50,
   "id": "8715eda6",
   "metadata": {},
   "outputs": [
    {
     "name": "stdout",
     "output_type": "stream",
     "text": [
      "True\n",
      "False\n",
      "True\n"
     ]
    }
   ],
   "source": [
    "# Membership Operator\n",
    "# in\n",
    "# not in\n",
    "print(\"d\" in \"delhi\")\n",
    "print(1 in [2,3,5,6])\n",
    "print(1 not in [2,3,5,6])"
   ]
  },
  {
   "cell_type": "markdown",
   "id": "ba8d5ee0",
   "metadata": {},
   "source": [
    "# if-else in python"
   ]
  },
  {
   "cell_type": "code",
   "execution_count": 51,
   "id": "2127849d",
   "metadata": {},
   "outputs": [],
   "source": [
    "if 1>2:\n",
    "    pass\n",
    "else:\n",
    "    pass"
   ]
  },
  {
   "cell_type": "code",
   "execution_count": 52,
   "id": "510e2361",
   "metadata": {},
   "outputs": [],
   "source": [
    "if 1>2:\n",
    "    pass\n",
    "elif 2>1:\n",
    "    pass\n",
    "else:\n",
    "    pass"
   ]
  },
  {
   "cell_type": "markdown",
   "id": "30f6a008",
   "metadata": {},
   "source": [
    "# Modules in Python"
   ]
  },
  {
   "cell_type": "markdown",
   "id": "f182f36b",
   "metadata": {},
   "source": [
    "# math\n",
    "# random\n",
    "# constant\n",
    "# datetime"
   ]
  },
  {
   "cell_type": "code",
   "execution_count": 23,
   "id": "0cd77163",
   "metadata": {},
   "outputs": [
    {
     "name": "stdout",
     "output_type": "stream",
     "text": [
      "120\n",
      "6\n",
      "6\n",
      "1.7320508075688772\n"
     ]
    }
   ],
   "source": [
    "#  math\n",
    "import math\n",
    "print(math.factorial(5))\n",
    "print(math.floor(6.8))\n",
    "print(math.ceil(5.4))\n",
    "print(math.sqrt(3))"
   ]
  },
  {
   "cell_type": "code",
   "execution_count": 54,
   "id": "b9f267f4",
   "metadata": {},
   "outputs": [
    {
     "name": "stdout",
     "output_type": "stream",
     "text": [
      "['False', 'None', 'True', '__peg_parser__', 'and', 'as', 'assert', 'async', 'await', 'break', 'class', 'continue', 'def', 'del', 'elif', 'else', 'except', 'finally', 'for', 'from', 'global', 'if', 'import', 'in', 'is', 'lambda', 'nonlocal', 'not', 'or', 'pass', 'raise', 'return', 'try', 'while', 'with', 'yield']\n"
     ]
    }
   ],
   "source": [
    "# keyword\n",
    "import keyword as kd\n",
    "print(kd.kwlist)"
   ]
  },
  {
   "cell_type": "code",
   "execution_count": 55,
   "id": "da47a7f4",
   "metadata": {},
   "outputs": [
    {
     "name": "stdout",
     "output_type": "stream",
     "text": [
      "13\n"
     ]
    }
   ],
   "source": [
    "# random\n",
    "import random as rn\n",
    "print(rn.randint(10,20))"
   ]
  },
  {
   "cell_type": "code",
   "execution_count": 56,
   "id": "02525406",
   "metadata": {},
   "outputs": [
    {
     "name": "stdout",
     "output_type": "stream",
     "text": [
      "2023-01-22 14:02:03.607818\n"
     ]
    }
   ],
   "source": [
    "# datetime\n",
    "import datetime as dt\n",
    "print(dt.datetime.now())"
   ]
  },
  {
   "cell_type": "code",
   "execution_count": 57,
   "id": "bdc319ec",
   "metadata": {},
   "outputs": [],
   "source": [
    "# help('modules') --> it will return all module name"
   ]
  },
  {
   "cell_type": "markdown",
   "id": "0d439158",
   "metadata": {},
   "source": [
    "# Loops in python"
   ]
  },
  {
   "cell_type": "code",
   "execution_count": 58,
   "id": "6a35a77f",
   "metadata": {},
   "outputs": [],
   "source": [
    "# while loop\n",
    "# for loop"
   ]
  },
  {
   "cell_type": "code",
   "execution_count": 67,
   "id": "8cece0b0",
   "metadata": {},
   "outputs": [
    {
     "name": "stdout",
     "output_type": "stream",
     "text": [
      "enter the no.12\n",
      "12\n",
      "24\n",
      "36\n",
      "48\n",
      "60\n",
      "72\n",
      "84\n",
      "96\n",
      "108\n",
      "120\n"
     ]
    }
   ],
   "source": [
    "no = int(input(\"enter the no.\"))\n",
    "i=1\n",
    "while i <11:\n",
    "    print(no*i)\n",
    "    i=i+1"
   ]
  },
  {
   "cell_type": "code",
   "execution_count": 66,
   "id": "c1c5efc5",
   "metadata": {},
   "outputs": [
    {
     "name": "stdout",
     "output_type": "stream",
     "text": [
      "enter the no.12\n",
      "12 * 1 = 12\n",
      "12 * 2 = 24\n",
      "12 * 3 = 36\n",
      "12 * 4 = 48\n",
      "12 * 5 = 60\n",
      "12 * 6 = 72\n",
      "12 * 7 = 84\n",
      "12 * 8 = 96\n",
      "12 * 9 = 108\n",
      "12 * 10 = 120\n"
     ]
    }
   ],
   "source": [
    "no = int(input(\"enter the no.\"))\n",
    "i=1\n",
    "while i <11:\n",
    "    print(no,\"*\",i,\"=\",no*i)\n",
    "    i=i+1"
   ]
  },
  {
   "cell_type": "code",
   "execution_count": 61,
   "id": "342c4ced",
   "metadata": {},
   "outputs": [
    {
     "name": "stdout",
     "output_type": "stream",
     "text": [
      "1\n",
      "2\n",
      "limit cross\n"
     ]
    }
   ],
   "source": [
    "# while with else\n",
    "\n",
    "i=1\n",
    "while i<3:\n",
    "    print(i)\n",
    "    i+=1\n",
    "else:print(\"limit cross\")"
   ]
  },
  {
   "cell_type": "code",
   "execution_count": 1,
   "id": "a38eb37f",
   "metadata": {},
   "outputs": [
    {
     "name": "stdout",
     "output_type": "stream",
     "text": [
      "enter the no11\n",
      "enter the no1\n",
      "enter the no3\n",
      "enter the no4\n",
      "enter the no5\n",
      "enter the no6\n",
      "enter the no10\n",
      "enter the no2\n",
      "enter the no0\n",
      "enter the no7\n",
      "enter the no8\n",
      "enter the no9\n",
      "correct!\n"
     ]
    }
   ],
   "source": [
    "import random as rn\n",
    "no = int(rn.randint(1,10))\n",
    "i=1\n",
    "t=None\n",
    "while t!=no:\n",
    "    t = int(input(\"enter the no\"))\n",
    "    i+=1\n",
    "else:print(\"correct!\")"
   ]
  },
  {
   "cell_type": "code",
   "execution_count": 63,
   "id": "ae72d6a3",
   "metadata": {},
   "outputs": [
    {
     "name": "stdout",
     "output_type": "stream",
     "text": [
      "1 2 3 4 5 6 7 8 9 10 "
     ]
    }
   ],
   "source": [
    "# for loop in python\n",
    "for i in range(1,11):\n",
    "    print(i,end=' ')"
   ]
  },
  {
   "cell_type": "code",
   "execution_count": 7,
   "id": "f82e0ab1",
   "metadata": {},
   "outputs": [
    {
     "name": "stdout",
     "output_type": "stream",
     "text": [
      "1 3 5 7 9 "
     ]
    }
   ],
   "source": [
    "for i in range(1,11,2):\n",
    "    print(i,end=' ')"
   ]
  },
  {
   "cell_type": "code",
   "execution_count": 8,
   "id": "64836145",
   "metadata": {},
   "outputs": [
    {
     "name": "stdout",
     "output_type": "stream",
     "text": [
      "10 9 8 7 6 5 4 3 2 1 "
     ]
    }
   ],
   "source": [
    "for i in range(10,0,-1):\n",
    "    print(i,end=' ')"
   ]
  },
  {
   "cell_type": "code",
   "execution_count": 12,
   "id": "49c2d85f",
   "metadata": {},
   "outputs": [
    {
     "name": "stdout",
     "output_type": "stream",
     "text": [
      "D e l h i "
     ]
    }
   ],
   "source": [
    "for i in 'Delhi':\n",
    "    print(i,end=' ')"
   ]
  },
  {
   "cell_type": "code",
   "execution_count": 2,
   "id": "ff677224",
   "metadata": {},
   "outputs": [
    {
     "name": "stdout",
     "output_type": "stream",
     "text": [
      "10 10000\n",
      "9 9090.90909090909\n",
      "8 8264.462809917353\n",
      "7 7513.148009015775\n",
      "6 6830.134553650703\n",
      "5 6209.213230591548\n",
      "4 5644.739300537771\n",
      "3 5131.5811823070635\n",
      "2 4665.07380209733\n",
      "1 4240.976183724845\n"
     ]
    }
   ],
   "source": [
    "curr_popu = 10000\n",
    "for i in range(10,0,-1):\n",
    "    print(i,curr_popu)\n",
    "    curr_popu = curr_popu/1.1"
   ]
  },
  {
   "cell_type": "code",
   "execution_count": 6,
   "id": "bfddbcf3",
   "metadata": {},
   "outputs": [
    {
     "name": "stdout",
     "output_type": "stream",
     "text": [
      "enter n 10\n",
      "2.7182815255731922\n"
     ]
    }
   ],
   "source": [
    "n = int(input(\"enter n \"))\n",
    "result=0\n",
    "fact=1\n",
    "for i in range(1,n+1):\n",
    "    fact = fact*i\n",
    "    result = result + i/fact\n",
    "print(result)"
   ]
  },
  {
   "cell_type": "markdown",
   "id": "f6b8da0e",
   "metadata": {},
   "source": [
    "# Nested Loops"
   ]
  },
  {
   "cell_type": "code",
   "execution_count": 10,
   "id": "b679eb83",
   "metadata": {},
   "outputs": [
    {
     "name": "stdout",
     "output_type": "stream",
     "text": [
      "1 1|1 2|1 3|1 4|1 5|2 1|2 2|2 3|2 4|2 5|3 1|3 2|3 3|3 4|3 5|4 1|4 2|4 3|4 4|4 5|5 1|5 2|5 3|5 4|5 5|"
     ]
    }
   ],
   "source": [
    "for i in range(1,6):\n",
    "    for j in range(1,6):\n",
    "        print(i,j,end='|')"
   ]
  },
  {
   "cell_type": "markdown",
   "id": "eafef740",
   "metadata": {},
   "source": [
    "# Pattern"
   ]
  },
  {
   "cell_type": "code",
   "execution_count": 2,
   "id": "3009479b",
   "metadata": {},
   "outputs": [
    {
     "name": "stdout",
     "output_type": "stream",
     "text": [
      "enter the no.3\n",
      "\n",
      "* \n",
      "* * \n",
      "* * * \n"
     ]
    }
   ],
   "source": [
    "# *\n",
    "# **\n",
    "# ***\n",
    "n = int(input(\"enter the no.\"))\n",
    "for i in range(n+1):\n",
    "    for j in range(i):\n",
    "        print('*',end=' ')\n",
    "    print()"
   ]
  },
  {
   "cell_type": "code",
   "execution_count": 16,
   "id": "2ede1eb6",
   "metadata": {},
   "outputs": [
    {
     "name": "stdout",
     "output_type": "stream",
     "text": [
      "enter the no.5\n",
      "\n",
      "1 \n",
      "1 2 1 \n",
      "1 2 3 2 1 \n",
      "1 2 3 4 3 2 1 \n",
      "1 2 3 4 5 4 3 2 1 \n"
     ]
    }
   ],
   "source": [
    "n = int(input(\"enter the no.\"))\n",
    "for i in range(n+1):\n",
    "    for j in range(1,i+1):\n",
    "        print(j,end=' ')\n",
    "    for j in range(i-1,0,-1):\n",
    "        print(j,end=' ')\n",
    "    print()"
   ]
  },
  {
   "cell_type": "markdown",
   "id": "7b479c15",
   "metadata": {},
   "source": [
    "# LOOP CONTROL STATEMENT"
   ]
  },
  {
   "cell_type": "code",
   "execution_count": 17,
   "id": "fcb297bd",
   "metadata": {},
   "outputs": [],
   "source": [
    "# break\n",
    "# continue\n",
    "# pass"
   ]
  },
  {
   "cell_type": "code",
   "execution_count": 21,
   "id": "a50fb4f9",
   "metadata": {},
   "outputs": [
    {
     "name": "stdout",
     "output_type": "stream",
     "text": [
      "0 1 2 3 "
     ]
    }
   ],
   "source": [
    "for i in range(10):\n",
    "    if i==4:break\n",
    "    print(i,end=\" \")"
   ]
  },
  {
   "cell_type": "code",
   "execution_count": 22,
   "id": "94d99795",
   "metadata": {},
   "outputs": [
    {
     "name": "stdout",
     "output_type": "stream",
     "text": [
      "0 1 2 3 5 6 7 8 9 "
     ]
    }
   ],
   "source": [
    "for i in range(10):\n",
    "    if i==4:continue\n",
    "    print(i,end=\" \")"
   ]
  },
  {
   "cell_type": "code",
   "execution_count": 32,
   "id": "d6eb6e2f",
   "metadata": {},
   "outputs": [
    {
     "name": "stdout",
     "output_type": "stream",
     "text": [
      "lower no.2\n",
      "higher no.10\n",
      "2 is prime no.\n",
      "3 is prime no.\n",
      "4  is not a Prime\n",
      "5 is prime no.\n",
      "6  is not a Prime\n",
      "7 is prime no.\n",
      "8  is not a Prime\n",
      "9  is not a Prime\n",
      "10  is not a Prime\n"
     ]
    }
   ],
   "source": [
    "lower = int(input(\"lower no.\"))\n",
    "high = int(input(\"higher no.\"))\n",
    "for i in range(lower,high+1):\n",
    "    t = int(math.sqrt(i))\n",
    "    check=0\n",
    "    for j in range(2,t+1):\n",
    "        if i%j==0:\n",
    "            check=1\n",
    "            print(i,\" is not a Prime\")\n",
    "            break\n",
    "    if check==0 :print(i,\"is prime no.\")"
   ]
  },
  {
   "cell_type": "code",
   "execution_count": 33,
   "id": "bb935370",
   "metadata": {},
   "outputs": [],
   "source": [
    "for i in range(10):\n",
    "    pass"
   ]
  },
  {
   "cell_type": "code",
   "execution_count": null,
   "id": "a81f0951",
   "metadata": {},
   "outputs": [],
   "source": []
  }
 ],
 "metadata": {
  "kernelspec": {
   "display_name": "Python 3 (ipykernel)",
   "language": "python",
   "name": "python3"
  },
  "language_info": {
   "codemirror_mode": {
    "name": "ipython",
    "version": 3
   },
   "file_extension": ".py",
   "mimetype": "text/x-python",
   "name": "python",
   "nbconvert_exporter": "python",
   "pygments_lexer": "ipython3",
   "version": "3.9.13"
  }
 },
 "nbformat": 4,
 "nbformat_minor": 5
}
